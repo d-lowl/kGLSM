{
 "cells": [
  {
   "cell_type": "markdown",
   "metadata": {},
   "source": [
    "# Randomised Iterative Improvement on MAXSAT\n",
    "\n"
   ]
  },
  {
   "cell_type": "markdown",
   "metadata": {},
   "source": [
    "Set classpath to the pre-compiled jar"
   ]
  },
  {
   "cell_type": "code",
   "execution_count": null,
   "metadata": {},
   "outputs": [],
   "source": [
    "@file:DependsOn(\"../build/libs/kglsm.jar\")"
   ]
  },
  {
   "cell_type": "markdown",
   "metadata": {},
   "source": [
    "Define imports"
   ]
  },
  {
   "cell_type": "code",
   "execution_count": null,
   "metadata": {},
   "outputs": [],
   "source": [
    "import com.sihvi.glsm.problem.MAXSAT\n",
    "import com.sihvi.glsm.sls.GLSMBuilder\n",
    "import com.sihvi.glsm.sls.StateMachineTransition\n",
    "import com.sihvi.glsm.space.BooleanSearchSpace\n",
    "import com.sihvi.glsm.space.DiscreteSearchSpace\n",
    "import com.sihvi.glsm.strategy.IIMode\n",
    "import com.sihvi.glsm.strategy.IterativeImprovementStrategy\n",
    "import com.sihvi.glsm.strategy.RandomWalkStrategy\n",
    "import com.sihvi.glsm.transitionpredicate.NoImprovementPredicate\n",
    "import com.sihvi.glsm.transitionpredicate.NotPredicate\n",
    "import com.sihvi.glsm.transitionpredicate.ProbabilisticPredicate\n",
    "import com.sihvi.glsm.memory.Memory\n",
    "import com.sihvi.glsm.memory.BasicMemory\n",
    "import com.sihvi.glsm.memory.BasicSolution"
   ]
  },
  {
   "cell_type": "markdown",
   "metadata": {},
   "source": [
    "## Problem\n",
    "\n",
    "We are using MAXSAT problem as an example. Get an instance of the problem."
   ]
  },
  {
   "cell_type": "code",
   "execution_count": null,
   "metadata": {},
   "outputs": [],
   "source": [
    "val noVariables = 20\n",
    "\n",
    "val problemInstance = MAXSAT.getRandomInstance(noVariables,50,2)\n",
    "println(problemInstance)"
   ]
  },
  {
   "cell_type": "markdown",
   "metadata": {},
   "source": [
    "## Search space\n",
    "Boolean search space defines two methods on an array of booleans: to get a neighbourhood and a random neighbour.\n",
    "\n",
    "In this case, the members of the neighbourhood are exactly Hamming distance of 1 away from the current solution (i.e. one boolean value flipped) "
   ]
  },
  {
   "cell_type": "code",
   "execution_count": null,
   "metadata": {},
   "outputs": [],
   "source": [
    "val space = BooleanSearchSpace(noVariables)"
   ]
  },
  {
   "cell_type": "markdown",
   "metadata": {},
   "source": [
    "## Memory\n",
    "Basic memory that holds:\n",
    "* Current solution and its cost\n",
    "* Best solution and best cost\n",
    "* Number of steps performed\n",
    "* Number of steps performed without improvement (when it was expected)"
   ]
  },
  {
   "cell_type": "code",
   "execution_count": null,
   "metadata": {},
   "outputs": [],
   "source": [
    "val initialSolution = space.getInitial()\n",
    "val memory = BasicMemory(BasicSolution(initialSolution, problemInstance.evaluate(initialSolution)))"
   ]
  },
  {
   "cell_type": "markdown",
   "metadata": {},
   "source": [
    "## GLSM and Strategies\n",
    "Randomised Iterative Improvement consists of two strategies that are flipped probabilistically\n",
    "* Iterative Best Improvement Strategy -- picks a solution from a neighbourhood that gives the best improvement\n",
    "* Random Walk Strategy -- randomly picks a solution from a neighbourhood\n",
    "\n",
    "The termination predicate of choice here is No Improvement Predicate, i.e. we terminate the search if there were n steps without improvement (in this case 10)"
   ]
  },
  {
   "cell_type": "code",
   "execution_count": null,
   "metadata": {},
   "outputs": [],
   "source": [
    "val terminationPredicate = NoImprovementPredicate(10)\n",
    "\n",
    "val wp = 0.1\n",
    "val toRandomPredicate = ProbabilisticPredicate(to = wp)\n",
    "val toIIPredicate = NotPredicate(toRandomPredicate)\n",
    "\n",
    "val walk = RandomWalkStrategy<Boolean>()\n",
    "val iterativeImprovement = IterativeImprovementStrategy<Boolean>(IIMode.BEST, true)"
   ]
  },
  {
   "cell_type": "markdown",
   "metadata": {},
   "source": [
    "As all the components are defined, we can now build the GLSM with strategies and transitions between them "
   ]
  },
  {
   "cell_type": "code",
   "execution_count": null,
   "metadata": {},
   "outputs": [],
   "source": [
    "val glsm = GLSMBuilder<Boolean, BasicSolution<Boolean>, Memory<Boolean, BasicSolution<Boolean>>, DiscreteSearchSpace<Boolean>>()\n",
    "        .addStrategy(iterativeImprovement)\n",
    "        .addStrategy(walk)\n",
    "        .addTransition(StateMachineTransition(0, 1, toRandomPredicate))\n",
    "        .addTransition(StateMachineTransition(1, 0, toIIPredicate))\n",
    "        .addTransition(StateMachineTransition(0, -1, terminationPredicate))\n",
    "        .build()"
   ]
  },
  {
   "cell_type": "markdown",
   "metadata": {},
   "source": [
    "# Solve\n",
    "\n",
    "With everything ready we can run GLSM on our problem instance"
   ]
  },
  {
   "cell_type": "code",
   "execution_count": null,
   "metadata": {},
   "outputs": [],
   "source": [
    "val finalSolution = glsm.solve(memory, space, problemInstance)\n",
    "\n",
    "println(\"Steps taken: \" + memory.stepCount)\n",
    "println(\"Solution: \" + finalSolution.solution.joinToString(\", \"))\n",
    "println(\"Cost: \" + finalSolution.cost)"
   ]
  }
 ],
 "metadata": {
  "kernelspec": {
   "display_name": "Kotlin",
   "language": "kotlin",
   "name": "kotlin"
  },
  "language_info": {
   "codemirror_mode": "text/x-kotlin",
   "file_extension": ".kt",
   "mimetype": "text/x-kotlin",
   "name": "kotlin",
   "pygments_lexer": "kotlin",
   "version": "1.4.20-dev-2342"
  }
 },
 "nbformat": 4,
 "nbformat_minor": 4
}
