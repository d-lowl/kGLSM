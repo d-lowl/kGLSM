{
 "cells": [
  {
   "cell_type": "markdown",
   "metadata": {},
   "source": [
    "# Randomised Iterative Improvement on TSP\n",
    "\n"
   ]
  },
  {
   "cell_type": "markdown",
   "metadata": {},
   "source": [
    "Set classpath to the pre-compiled jar"
   ]
  },
  {
   "cell_type": "code",
   "execution_count": 7,
   "metadata": {},
   "outputs": [],
   "source": [
    "@file:DependsOn(\"../build/libs/kglsm.jar\")"
   ]
  },
  {
   "cell_type": "markdown",
   "metadata": {},
   "source": [
    "Define imports"
   ]
  },
  {
   "cell_type": "code",
   "execution_count": 8,
   "metadata": {},
   "outputs": [],
   "source": [
    "import com.sihvi.glsm.problem.TSP\n",
    "import com.sihvi.glsm.sls.GLSMBuilder\n",
    "import com.sihvi.glsm.sls.StateMachineTransition\n",
    "import com.sihvi.glsm.space.PermutationSearchSpace\n",
    "import com.sihvi.glsm.space.DiscreteSearchSpace\n",
    "import com.sihvi.glsm.strategy.IIMode\n",
    "import com.sihvi.glsm.strategy.IterativeImprovementStrategy\n",
    "import com.sihvi.glsm.strategy.RandomWalkStrategy\n",
    "import com.sihvi.glsm.transitionpredicate.NoImprovementPredicate\n",
    "import com.sihvi.glsm.transitionpredicate.NotPredicate\n",
    "import com.sihvi.glsm.transitionpredicate.ProbabilisticPredicate\n",
    "import com.sihvi.glsm.memory.Memory\n",
    "import com.sihvi.glsm.memory.BasicMemory\n",
    "import com.sihvi.glsm.memory.BasicSolution"
   ]
  },
  {
   "cell_type": "markdown",
   "metadata": {},
   "source": [
    "## Problem\n",
    "\n",
    "We are using TSP problem as an example. Get an instance of the problem.\n",
    "\n",
    "We use a280 instance from TSPLIB ["
   ]
  },
  {
   "cell_type": "code",
   "execution_count": 6,
   "metadata": {},
   "outputs": [
    {
     "name": "stderr",
     "output_type": "stream",
     "text": [
      "java.io.FileNotFoundException: a280.tsp (No such file or directory)\n",
      "java.base/java.io.FileInputStream.open0(Native Method)\n",
      "java.base/java.io.FileInputStream.open(FileInputStream.java:213)\n",
      "java.base/java.io.FileInputStream.<init>(FileInputStream.java:155)\n",
      "kotlin.io.FilesKt__FileReadWriteKt.forEachLine(FileReadWrite.kt:190)\n",
      "kotlin.io.FilesKt__FileReadWriteKt.readLines(FileReadWrite.kt:219)\n",
      "kotlin.io.FilesKt__FileReadWriteKt.readLines$default(FileReadWrite.kt:217)\n",
      "com.sihvi.glsm.problem.TSP$Companion.fromFile(TSP.kt:65)\n",
      "Line_5_jupyter.<init>(Line_5.jupyter.kts:3)\n",
      "java.base/jdk.internal.reflect.NativeConstructorAccessorImpl.newInstance0(Native Method)\n",
      "java.base/jdk.internal.reflect.NativeConstructorAccessorImpl.newInstance(NativeConstructorAccessorImpl.java:62)\n",
      "java.base/jdk.internal.reflect.DelegatingConstructorAccessorImpl.newInstance(DelegatingConstructorAccessorImpl.java:45)\n",
      "java.base/java.lang.reflect.Constructor.newInstanceWithCaller(Constructor.java:500)\n",
      "java.base/java.lang.reflect.Constructor.newInstance(Constructor.java:481)\n",
      "kotlin.script.experimental.jvm.BasicJvmScriptEvaluator.evalWithConfigAndOtherScriptsResults(BasicJvmScriptEvaluator.kt:96)\n",
      "kotlin.script.experimental.jvm.BasicJvmScriptEvaluator.invoke$suspendImpl(BasicJvmScriptEvaluator.kt:41)\n",
      "kotlin.script.experimental.jvm.BasicJvmScriptEvaluator.invoke(BasicJvmScriptEvaluator.kt)\n",
      "kotlin.script.experimental.jvm.BasicJvmReplEvaluator.eval(BasicJvmReplEvaluator.kt:51)\n",
      "org.jetbrains.kotlin.jupyter.ReplForJupyterImpl$doEval$resultWithDiagnostics$1.invokeSuspend(repl.kt:535)\n",
      "kotlin.coroutines.jvm.internal.BaseContinuationImpl.resumeWith(ContinuationImpl.kt:33)\n",
      "kotlinx.coroutines.DispatchedTask.run(DispatchedTask.kt:56)\n",
      "kotlinx.coroutines.EventLoopImplBase.processNextEvent(EventLoop.common.kt:274)\n",
      "kotlinx.coroutines.BlockingCoroutine.joinBlocking(Builders.kt:84)\n",
      "kotlinx.coroutines.BuildersKt__BuildersKt.runBlocking(Builders.kt:59)\n",
      "kotlinx.coroutines.BuildersKt.runBlocking(Unknown Source)\n",
      "kotlinx.coroutines.BuildersKt__BuildersKt.runBlocking$default(Builders.kt:38)\n",
      "kotlinx.coroutines.BuildersKt.runBlocking$default(Unknown Source)\n",
      "org.jetbrains.kotlin.jupyter.ReplForJupyterImpl.doEval(repl.kt:535)\n",
      "org.jetbrains.kotlin.jupyter.ReplForJupyterImpl.eval(repl.kt:366)\n",
      "org.jetbrains.kotlin.jupyter.ProtocolKt$shellMessagesHandler$res$1.invoke(protocol.kt:138)\n",
      "org.jetbrains.kotlin.jupyter.ProtocolKt$shellMessagesHandler$res$1.invoke(protocol.kt)\n",
      "org.jetbrains.kotlin.jupyter.ProtocolKt.evalWithIO(protocol.kt:351)\n",
      "org.jetbrains.kotlin.jupyter.ProtocolKt.shellMessagesHandler(protocol.kt:137)\n",
      "org.jetbrains.kotlin.jupyter.IkotlinKt.kernelServer(ikotlin.kt:107)\n",
      "org.jetbrains.kotlin.jupyter.IkotlinKt.main(ikotlin.kt:69)\n"
     ]
    }
   ],
   "source": [
    "val dimensions = 2\n",
    "\n",
    "val problemInstance = TSP.fromFile(\"a280.tsp\")\n",
    "val noPoints = problemInstance.size\n",
    "println(problemInstance)"
   ]
  },
  {
   "cell_type": "markdown",
   "metadata": {},
   "source": [
    "## Search space\n",
    "Permutation search space defines two methods on an array of booleans: to get a neighbourhood and a random neighbour.\n",
    "\n",
    "2-exchange neighbourhood is used for permutation search space"
   ]
  },
  {
   "cell_type": "code",
   "execution_count": 4,
   "metadata": {},
   "outputs": [
    {
     "name": "stderr",
     "output_type": "stream",
     "text": [
      "java.lang.NullPointerException\n",
      "Line_3_jupyter.<init>(Line_3.jupyter.kts:1)\n",
      "java.base/jdk.internal.reflect.NativeConstructorAccessorImpl.newInstance0(Native Method)\n",
      "java.base/jdk.internal.reflect.NativeConstructorAccessorImpl.newInstance(NativeConstructorAccessorImpl.java:62)\n",
      "java.base/jdk.internal.reflect.DelegatingConstructorAccessorImpl.newInstance(DelegatingConstructorAccessorImpl.java:45)\n",
      "java.base/java.lang.reflect.Constructor.newInstanceWithCaller(Constructor.java:500)\n",
      "java.base/java.lang.reflect.Constructor.newInstance(Constructor.java:481)\n",
      "kotlin.script.experimental.jvm.BasicJvmScriptEvaluator.evalWithConfigAndOtherScriptsResults(BasicJvmScriptEvaluator.kt:96)\n",
      "kotlin.script.experimental.jvm.BasicJvmScriptEvaluator.invoke$suspendImpl(BasicJvmScriptEvaluator.kt:41)\n",
      "kotlin.script.experimental.jvm.BasicJvmScriptEvaluator.invoke(BasicJvmScriptEvaluator.kt)\n",
      "kotlin.script.experimental.jvm.BasicJvmReplEvaluator.eval(BasicJvmReplEvaluator.kt:51)\n",
      "org.jetbrains.kotlin.jupyter.ReplForJupyterImpl$doEval$resultWithDiagnostics$1.invokeSuspend(repl.kt:535)\n",
      "kotlin.coroutines.jvm.internal.BaseContinuationImpl.resumeWith(ContinuationImpl.kt:33)\n",
      "kotlinx.coroutines.DispatchedTask.run(DispatchedTask.kt:56)\n",
      "kotlinx.coroutines.EventLoopImplBase.processNextEvent(EventLoop.common.kt:274)\n",
      "kotlinx.coroutines.BlockingCoroutine.joinBlocking(Builders.kt:84)\n",
      "kotlinx.coroutines.BuildersKt__BuildersKt.runBlocking(Builders.kt:59)\n",
      "kotlinx.coroutines.BuildersKt.runBlocking(Unknown Source)\n",
      "kotlinx.coroutines.BuildersKt__BuildersKt.runBlocking$default(Builders.kt:38)\n",
      "kotlinx.coroutines.BuildersKt.runBlocking$default(Unknown Source)\n",
      "org.jetbrains.kotlin.jupyter.ReplForJupyterImpl.doEval(repl.kt:535)\n",
      "org.jetbrains.kotlin.jupyter.ReplForJupyterImpl.eval(repl.kt:366)\n",
      "org.jetbrains.kotlin.jupyter.ProtocolKt$shellMessagesHandler$res$1.invoke(protocol.kt:138)\n",
      "org.jetbrains.kotlin.jupyter.ProtocolKt$shellMessagesHandler$res$1.invoke(protocol.kt)\n",
      "org.jetbrains.kotlin.jupyter.ProtocolKt.evalWithIO(protocol.kt:351)\n",
      "org.jetbrains.kotlin.jupyter.ProtocolKt.shellMessagesHandler(protocol.kt:137)\n",
      "org.jetbrains.kotlin.jupyter.IkotlinKt.kernelServer(ikotlin.kt:107)\n",
      "org.jetbrains.kotlin.jupyter.IkotlinKt.main(ikotlin.kt:69)\n"
     ]
    }
   ],
   "source": [
    "val space = PermutationSearchSpace(noPoints)"
   ]
  },
  {
   "cell_type": "markdown",
   "metadata": {},
   "source": [
    "## Memory\n",
    "Basic memory that holds:\n",
    "* Current solution and its cost\n",
    "* Best solution and best cost\n",
    "* Number of steps performed\n",
    "* Number of steps performed without improvement (when it was expected)"
   ]
  },
  {
   "cell_type": "code",
   "execution_count": null,
   "metadata": {},
   "outputs": [],
   "source": [
    "val initialSolution = space.getInitial()\n",
    "val memory = BasicMemory(BasicSolution(initialSolution, problemInstance.evaluate(initialSolution)))\n",
    "println(memory.bestSolution)"
   ]
  },
  {
   "cell_type": "markdown",
   "metadata": {},
   "source": [
    "## GLSM and Strategies\n",
    "Randomised Iterative Improvement consists of two strategies that are flipped probabilistically\n",
    "* Iterative Best Improvement Strategy -- picks a solution from a neighbourhood that gives the best improvement\n",
    "* Random Walk Strategy -- randomly picks a solution from a neighbourhood\n",
    "\n",
    "The termination predicate of choice here is No Improvement Predicate, i.e. we terminate the search if there were n steps without improvement (in this case 10)"
   ]
  },
  {
   "cell_type": "code",
   "execution_count": null,
   "metadata": {},
   "outputs": [],
   "source": [
    "val terminationPredicate = NoImprovementPredicate(10)\n",
    "\n",
    "val wp = 0.1\n",
    "val toRandomPredicate = ProbabilisticPredicate(to = wp)\n",
    "val toIIPredicate = NotPredicate(toRandomPredicate)\n",
    "\n",
    "val walk = RandomWalkStrategy<Int>()\n",
    "val iterativeImprovement = IterativeImprovementStrategy<Int>(IIMode.BEST, true)"
   ]
  },
  {
   "cell_type": "markdown",
   "metadata": {},
   "source": [
    "As all the components are defined, we can now build the GLSM with strategies and transitions between them "
   ]
  },
  {
   "cell_type": "code",
   "execution_count": null,
   "metadata": {},
   "outputs": [],
   "source": [
    "val glsm = GLSMBuilder<Int, BasicSolution<Int>, Memory<Int, BasicSolution<Int>>, DiscreteSearchSpace<Int>>()\n",
    "        .addStrategy(iterativeImprovement)\n",
    "        .addStrategy(walk)\n",
    "        .addTransition(StateMachineTransition(0, 1, toRandomPredicate))\n",
    "        .addTransition(StateMachineTransition(1, 0, toIIPredicate))\n",
    "        .addTransition(StateMachineTransition(0, -1, terminationPredicate))\n",
    "        .build()"
   ]
  },
  {
   "cell_type": "markdown",
   "metadata": {},
   "source": [
    "# Solve\n",
    "\n",
    "With everything ready we can run GLSM on our problem instance"
   ]
  },
  {
   "cell_type": "code",
   "execution_count": null,
   "metadata": {},
   "outputs": [],
   "source": [
    "val finalSolution = glsm.solve(memory, space, problemInstance::evaluate)\n",
    "\n",
    "println(\"Steps taken: \" + memory.stepCount)\n",
    "println(\"Solution: \" + finalSolution.solution.joinToString(\", \"))\n",
    "println(\"Cost: \" + finalSolution.cost)"
   ]
  },
  {
   "cell_type": "code",
   "execution_count": null,
   "metadata": {},
   "outputs": [],
   "source": [
    "memory.stepCount"
   ]
  }
 ],
 "metadata": {
  "kernelspec": {
   "display_name": "Kotlin",
   "language": "kotlin",
   "name": "kotlin"
  },
  "language_info": {
   "codemirror_mode": "text/x-kotlin",
   "file_extension": ".kt",
   "mimetype": "text/x-kotlin",
   "name": "kotlin",
   "pygments_lexer": "kotlin",
   "version": "1.4.20-dev-2342"
  }
 },
 "nbformat": 4,
 "nbformat_minor": 4
}
