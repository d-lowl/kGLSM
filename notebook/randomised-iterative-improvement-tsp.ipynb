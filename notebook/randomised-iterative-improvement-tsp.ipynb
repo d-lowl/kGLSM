{
 "cells": [
  {
   "cell_type": "markdown",
   "metadata": {},
   "source": [
    "# Randomised Iterative Improvement on TSP\n",
    "\n"
   ]
  },
  {
   "cell_type": "markdown",
   "metadata": {},
   "source": [
    "Set classpath to the pre-compiled jar"
   ]
  },
  {
   "cell_type": "code",
   "execution_count": null,
   "metadata": {},
   "outputs": [],
   "source": [
    "@file:DependsOn(\"../build/libs/kglsm.jar\")\n",
    "@file:DependsOn(\"ch.qos.logback:logback-classic:1.2.3\")\n",
    "@file:DependsOn(\"ch.qos.logback:logback-core:1.2.3\")\n",
    "@file:DependsOn(\"io.github.microutils:kotlin-logging-jvm:2.0.3\")"
   ]
  },
  {
   "cell_type": "markdown",
   "metadata": {},
   "source": [
    "Define imports"
   ]
  },
  {
   "cell_type": "code",
   "execution_count": null,
   "metadata": {},
   "outputs": [],
   "source": [
    "import com.sihvi.glsm.problem.TSP\n",
    "import com.sihvi.glsm.sls.GLSMBuilder\n",
    "import com.sihvi.glsm.sls.StateMachineTransition\n",
    "import com.sihvi.glsm.space.PermutationSearchSpace\n",
    "import com.sihvi.glsm.space.SearchSpace\n",
    "import com.sihvi.glsm.strategy.IIMode\n",
    "import com.sihvi.glsm.strategy.IterativeImprovementStrategy\n",
    "import com.sihvi.glsm.strategy.RandomWalkStrategy\n",
    "import com.sihvi.glsm.transitionpredicate.FixedIterationPredicate\n",
    "import com.sihvi.glsm.transitionpredicate.NotPredicate\n",
    "import com.sihvi.glsm.transitionpredicate.ProbabilisticPredicate\n",
    "import com.sihvi.glsm.memory.Memory\n",
    "import com.sihvi.glsm.memory.BasicMemory\n",
    "import com.sihvi.glsm.memory.BasicSolution\n",
    "import com.sihvi.glsm.memory.attribute.Stash\n",
    "import com.sihvi.glsm.memory.attribute.MemoryAttribute\n",
    "import com.sihvi.glsm.problem.CostFunction"
   ]
  },
  {
   "cell_type": "markdown",
   "metadata": {},
   "source": [
    "## Problem\n",
    "\n",
    "We are using TSP problem as an example. Get an instance of the problem.\n",
    "\n",
    "We use a280 instance from TSPLIB ["
   ]
  },
  {
   "cell_type": "code",
   "execution_count": null,
   "metadata": {},
   "outputs": [],
   "source": [
    "val dimensions = 2\n",
    "\n",
    "val problemInstance = TSP.fromFile(\"a280.tsp\")\n",
    "val noPoints = problemInstance.size\n",
    "println(problemInstance)"
   ]
  },
  {
   "cell_type": "markdown",
   "metadata": {},
   "source": [
    "## Search space\n",
    "Permutation search space defines two methods on an array of booleans: to get a neighbourhood and a random neighbour.\n",
    "\n",
    "2-exchange neighbourhood is used for permutation search space"
   ]
  },
  {
   "cell_type": "code",
   "execution_count": null,
   "metadata": {},
   "outputs": [],
   "source": [
    "val space = PermutationSearchSpace(noPoints)"
   ]
  },
  {
   "cell_type": "markdown",
   "metadata": {},
   "source": [
    "## Memory\n",
    "Basic memory that holds:\n",
    "* Current solution and its cost\n",
    "* Best solution and best cost\n",
    "* Number of steps performed\n",
    "* Number of steps performed without improvement (when it was expected)"
   ]
  },
  {
   "cell_type": "code",
   "execution_count": null,
   "metadata": {},
   "outputs": [],
   "source": [
    "val initialSolution = space.getInitial()\n",
    "val attributes = listOf<MemoryAttribute>(Stash<BasicSolution<Int>>())\n",
    "val memory = BasicMemory(BasicSolution(initialSolution, problemInstance.evaluate(initialSolution)), attributes)\n",
    "memory"
   ]
  },
  {
   "cell_type": "markdown",
   "metadata": {},
   "source": [
    "## GLSM and Strategies\n",
    "Randomised Iterative Improvement consists of two strategies that are flipped probabilistically\n",
    "* Iterative Best Improvement Strategy -- picks a solution from a neighbourhood that gives the best improvement\n",
    "* Random Walk Strategy -- randomly picks a solution from a neighbourhood\n",
    "\n",
    "The termination predicate of choice here is No Improvement Predicate, i.e. we terminate the search if there were n steps without improvement (in this case 10)"
   ]
  },
  {
   "cell_type": "code",
   "execution_count": null,
   "metadata": {},
   "outputs": [],
   "source": [
    "val terminationPredicate = FixedIterationPredicate(500)\n",
    "\n",
    "val wp = 0.01\n",
    "val toRandomPredicate = ProbabilisticPredicate(to = wp)\n",
    "val toIIPredicate = NotPredicate(toRandomPredicate)\n",
    "\n",
    "val walk = RandomWalkStrategy<Int>()\n",
    "val iterativeImprovement = IterativeImprovementStrategy<Int>(IIMode.FIRST, true)"
   ]
  },
  {
   "cell_type": "markdown",
   "metadata": {},
   "source": [
    "As all the components are defined, we can now build the GLSM with strategies and transitions between them "
   ]
  },
  {
   "cell_type": "code",
   "execution_count": null,
   "metadata": {},
   "outputs": [],
   "source": [
    "@Suppress(\"UNUSED_PARAMETER\")\n",
    "fun <T> pushStash(memory: Memory<T, BasicSolution<T>>, searchSpace: SearchSpace<T>, costFunction: CostFunction<T>) {\n",
    "    val stash: Stash<BasicSolution<T>> = memory.getAttribute()\n",
    "    stash.addToStash(memory.bestSolution)\n",
    "}"
   ]
  },
  {
   "cell_type": "code",
   "execution_count": null,
   "metadata": {},
   "outputs": [],
   "source": [
    "val glsm = GLSMBuilder<Int, BasicSolution<Int>>()\n",
    "        .addStrategy(iterativeImprovement)\n",
    "        .addStrategy(walk)\n",
    "        .addTransition(StateMachineTransition(0, 1, toRandomPredicate))\n",
    "        .addTransition(StateMachineTransition(1, 0, toIIPredicate))\n",
    "        .addTransition(StateMachineTransition(0, -1, terminationPredicate))\n",
    "        .build()"
   ]
  },
  {
   "cell_type": "code",
   "execution_count": null,
   "metadata": {},
   "outputs": [],
   "source": [
    "glsm.toASCII()"
   ]
  },
  {
   "cell_type": "markdown",
   "metadata": {},
   "source": [
    "# Solve\n",
    "\n",
    "With everything ready we can run GLSM on our problem instance"
   ]
  },
  {
   "cell_type": "code",
   "execution_count": null,
   "metadata": {},
   "outputs": [],
   "source": [
    "val finalSolution = glsm.solve(memory, space, problemInstance::evaluate)\n",
    "\n",
    "println(\"Steps taken: \" + memory.stepCount)\n",
    "println(\"Solution: \" + finalSolution.solution.joinToString(\", \"))\n",
    "println(\"Cost: \" + finalSolution.cost)"
   ]
  },
  {
   "cell_type": "code",
   "execution_count": null,
   "metadata": {},
   "outputs": [],
   "source": [
    "memory.stepCount"
   ]
  }
 ],
 "metadata": {
  "kernelspec": {
   "display_name": "Kotlin",
   "language": "kotlin",
   "name": "kotlin"
  },
  "language_info": {
   "codemirror_mode": "text/x-kotlin",
   "file_extension": ".kt",
   "mimetype": "text/x-kotlin",
   "name": "kotlin",
   "pygments_lexer": "kotlin",
   "version": "1.4.20-dev-2342"
  }
 },
 "nbformat": 4,
 "nbformat_minor": 4
}
